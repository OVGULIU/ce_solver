{
 "cells": [
  {
   "cell_type": "markdown",
   "metadata": {},
   "source": [
    "# EXAMPLE 1:  \n",
    "## 3D Laplace, cubic grid, finite diference discretization, KDTree permutation<u>"
   ]
  },
  {
   "cell_type": "markdown",
   "metadata": {},
   "source": [
    "Additional requirements:\n",
    "\n",
    "* [sklearn](http://scikit-learn.org/stable/install.html) "
   ]
  },
  {
   "cell_type": "code",
   "execution_count": 1,
   "metadata": {
    "collapsed": true
   },
   "outputs": [],
   "source": [
    "# Imports:\n",
    "import numpy as np\n",
    "import matplotlib.pyplot as plt\n",
    "%matplotlib inline\n",
    "from ce.ce_wrap import h2_dir, prec_gmres\n",
    "from helpers.fd_tools import gen_3d_lap, make_coord\n",
    "from helpers.prms import kdt_prm"
   ]
  },
  {
   "cell_type": "code",
   "execution_count": 2,
   "metadata": {
    "collapsed": true
   },
   "outputs": [],
   "source": [
    "# Set the matrix size:\n",
    "p = 10\n",
    "N = 2**p\n",
    "\n",
    "# Generate random right-hand side:\n",
    "rhs = np.random.randn(N)*1.\n",
    "\n",
    "# Generate 3D Laplacian matrix:\n",
    "A = gen_3d_lap(p)"
   ]
  },
  {
   "cell_type": "code",
   "execution_count": 3,
   "metadata": {
    "collapsed": false
   },
   "outputs": [
    {
     "data": {
      "text/plain": [
       "<matplotlib.lines.Line2D at 0x10e8cf3d0>"
      ]
     },
     "execution_count": 3,
     "metadata": {},
     "output_type": "execute_result"
    },
    {
     "data": {
      "image/png": "[encoded data removed]",
      "text/plain": [
       "<matplotlib.figure.Figure at 0x10ad74f50>"
      ]
     },
     "metadata": {},
     "output_type": "display_data"
    }
   ],
   "source": [
    "# Set the block size for the permutation:\n",
    "B = 16\n",
    "\n",
    "# Build a permutation using KDTree from sklearn:\n",
    "coord = make_coord(p)\n",
    "prm, bl_ar = kdt_prm(coord, B=B)\n",
    "A_prm = A[:, prm][prm, :]\n",
    "\n",
    "# Show permuted matrix:\n",
    "plt.spy(A_prm,markersize=0.1)"
   ]
  },
  {
   "cell_type": "code",
   "execution_count": 4,
   "metadata": {
    "collapsed": false
   },
   "outputs": [
    {
     "name": "stdout",
     "output_type": "stream",
     "text": [
      "N: 1024 \n",
      "CE factor. time: 0.023127 s, \n",
      "CE solution time: 0.001562 s, \n",
      "Memory: 2 MB \n",
      "Residual 0.025121099162 \n",
      "Error 0.0357503901362\n"
     ]
    }
   ],
   "source": [
    "# Set the number of levels in ce factorization:\n",
    "level = 2\n",
    "\n",
    "# Apply ce factorization:\n",
    "sol, info = h2_dir(A_prm, rhs, bl_ar=bl_ar, level=level, r=2, join=B)\n",
    "time, mem, res, error = info\n",
    "print \"N:\", N, \"\\nCE factor. time:\", time[0], \"s,\", \"\\nCE solution time:\", time[1], \"s,\",\"\\nMemory:\", mem, \"MB\", \"\\nResidual\", res, \"\\nError\", error"
   ]
  },
  {
   "cell_type": "markdown",
   "metadata": {},
   "source": [
    "# EXAMPLE 2: \n",
    "## Poisson equation, complex domain, finite elements discretization, metis permutation"
   ]
  },
  {
   "cell_type": "markdown",
   "metadata": {},
   "source": [
    "Additional requirements:\n",
    "\n",
    "* [FEniCS](https://fenicsproject.org/) \n",
    "* [mshr](https://bitbucket.org/fenics-project/mshr) \n",
    "* [METIS for Python](https://metis.readthedocs.io/en/latest/)\n",
    "* [NetworkX](https://networkx.github.io/)"
   ]
  },
  {
   "cell_type": "code",
   "execution_count": 10,
   "metadata": {
    "collapsed": false
   },
   "outputs": [],
   "source": [
    "# Imports:\n",
    "from helpers.fe_mat import complex_mesh_3d\n",
    "from helpers.prms import metis_prm"
   ]
  },
  {
   "cell_type": "code",
   "execution_count": 11,
   "metadata": {
    "collapsed": true
   },
   "outputs": [],
   "source": [
    "# Build mesh, matrix and right-hand side with FEniCS \n",
    "mesh, A, rhs = complex_mesh_3d(r=10)\n",
    "N =  A_prm.shape[0]"
   ]
  },
  {
   "cell_type": "code",
   "execution_count": 12,
   "metadata": {
    "collapsed": true
   },
   "outputs": [],
   "source": [
    "# Set the block size for permutation:\n",
    "B = 16\n",
    "\n",
    "# Build permutation with Metis \n",
    "prm, bl_ar = metis_prm(A, B=B)\n",
    "A_prm = A[:, prm][prm, :]"
   ]
  },
  {
   "cell_type": "code",
   "execution_count": 14,
   "metadata": {
    "collapsed": false
   },
   "outputs": [
    {
     "name": "stdout",
     "output_type": "stream",
     "text": [
      "N: 1024 \n",
      "CE factor. time: 0.009427 s, \n",
      "CE solution time: 0.000185000000002 s, \n",
      "Memory: 1 MB \n",
      "Residual 1.03761054315e-05 \n",
      "Error 0.000107609921367\n"
     ]
    }
   ],
   "source": [
    "# Set the number of levels in ce factorization:\n",
    "level = 2\n",
    "\n",
    "# Apply ce factorization:\n",
    "sol, info = h2_dir(A_prm, rhs, bl_ar=bl_ar, level=level, r=2, join = B)\n",
    "time, mem, res, error = info\n",
    "print \"N:\", N, \"\\nCE factor. time:\", time[0], \"s,\", \"\\nCE solution time:\", time[1], \"s,\",\"\\nMemory:\", mem, \"MB\", \"\\nResidual\", res, \"\\nError\", error"
   ]
  }
 ],
 "metadata": {
  "kernelspec": {
   "display_name": "Python 2",
   "language": "python",
   "name": "python2"
  },
  "language_info": {
   "codemirror_mode": {
    "name": "ipython",
    "version": 2
   },
   "file_extension": ".py",
   "mimetype": "text/x-python",
   "name": "python",
   "nbconvert_exporter": "python",
   "pygments_lexer": "ipython2",
   "version": "2.7.13"
  }
 },
 "nbformat": 4,
 "nbformat_minor": 2
}
